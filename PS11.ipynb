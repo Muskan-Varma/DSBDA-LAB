{
 "cells": [
  {
   "cell_type": "markdown",
   "metadata": {},
   "source": [
    "Write Scala program to find average temperature, average dew point and\n",
    "average wind speed for given weather dataset"
   ]
  },
  {
   "cell_type": "code",
   "execution_count": 1,
   "metadata": {},
   "outputs": [
    {
     "ename": "SyntaxError",
     "evalue": "invalid syntax (1174475011.py, line 3)",
     "output_type": "error",
     "traceback": [
      "\u001b[1;36m  Cell \u001b[1;32mIn[1], line 3\u001b[1;36m\u001b[0m\n\u001b[1;33m    object WeatherDataAnalysis {\u001b[0m\n\u001b[1;37m           ^\u001b[0m\n\u001b[1;31mSyntaxError\u001b[0m\u001b[1;31m:\u001b[0m invalid syntax\n"
     ]
    }
   ],
   "source": [
    "import org.apache.spark.sql.SparkSession\n",
    "\n",
    "object WeatherDataAnalysis {\n",
    "  def main(args: Array[String]): Unit = {\n",
    "    // Create a SparkSession\n",
    "    val spark = SparkSession.builder()\n",
    "      .appName(\"WeatherDataAnalysis\")\n",
    "      .master(\"local[*]\")\n",
    "      .getOrCreate()\n",
    "\n",
    "    // Read the weather dataset (replace 'weather.csv' with your dataset path)\n",
    "    val weatherData = spark.read.option(\"header\", \"true\").csv(\"weather.csv\")\n",
    "\n",
    "    // Convert temperature, dew point, and wind speed columns to Double type\n",
    "    val weatherDataTyped = weatherData\n",
    "      .withColumn(\"Temperature\", weatherData(\"Temperature\").cast(\"Double\"))\n",
    "      .withColumn(\"DewPoint\", weatherData(\"DewPoint\").cast(\"Double\"))\n",
    "      .withColumn(\"WindSpeed\", weatherData(\"WindSpeed\").cast(\"Double\"))\n",
    "\n",
    "    // Calculate average temperature, average dew point, and average wind speed\n",
    "    val avgTemperature = weatherDataTyped.selectExpr(\"avg(Temperature)\").collect()(0)(0)\n",
    "    val avgDewPoint = weatherDataTyped.selectExpr(\"avg(DewPoint)\").collect()(0)(0)\n",
    "    val avgWindSpeed = weatherDataTyped.selectExpr(\"avg(WindSpeed)\").collect()(0)(0)\n",
    "\n",
    "    // Print the results\n",
    "    println(s\"Average Temperature: $avgTemperature\")\n",
    "    println(s\"Average Dew Point: $avgDewPoint\")\n",
    "    println(s\"Average Wind Speed: $avgWindSpeed\")\n",
    "\n",
    "    // Stop the SparkSession\n",
    "    spark.stop()\n",
    "  }\n",
    "}"
   ]
  }
 ],
 "metadata": {
  "kernelspec": {
   "display_name": "Python 3",
   "language": "python",
   "name": "python3"
  },
  "language_info": {
   "codemirror_mode": {
    "name": "ipython",
    "version": 3
   },
   "file_extension": ".py",
   "mimetype": "text/x-python",
   "name": "python",
   "nbconvert_exporter": "python",
   "pygments_lexer": "ipython3",
   "version": "3.10.4"
  }
 },
 "nbformat": 4,
 "nbformat_minor": 2
}
