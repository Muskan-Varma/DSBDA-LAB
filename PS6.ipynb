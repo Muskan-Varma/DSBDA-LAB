{
 "cells": [
  {
   "cell_type": "markdown",
   "metadata": {},
   "source": [
    "Create a Linear Regression Model using Python/R to predict home prices\n",
    "\n",
    "using Boston Housing Dataset. Find the performance of your model."
   ]
  },
  {
   "cell_type": "code",
   "execution_count": 3,
   "metadata": {},
   "outputs": [
    {
     "name": "stdout",
     "output_type": "stream",
     "text": [
      "Missing values exist in the dataset.\n",
      "Mean Squared Error: 20.687720473048493\n",
      "R-squared Score: 0.7200277678580315\n"
     ]
    }
   ],
   "source": [
    "import pandas as pd\n",
    "from sklearn.model_selection import train_test_split\n",
    "from sklearn.linear_model import LinearRegression\n",
    "from sklearn.metrics import mean_squared_error, r2_score\n",
    "\n",
    "# Load the Boston housing dataset\n",
    "df = pd.read_csv(\"Boston.csv\")\n",
    "\n",
    "# Check if there are any missing values\n",
    "missing_values = df.isnull().sum()\n",
    "if missing_values.any():\n",
    "    print(\"Missing values exist in the dataset.\")\n",
    "    # Handle missing values\n",
    "    df.dropna(inplace=True)\n",
    "else:\n",
    "    print(\"No missing values in the dataset.\")\n",
    "\n",
    "# Split the data into features (X) and the target variable (y)\n",
    "X = df.drop(columns=['medv'])\n",
    "y = df['medv']\n",
    "\n",
    "# Split the data into training and testing sets\n",
    "X_train, X_test, y_train, y_test = train_test_split(X, y, test_size=0.2, random_state=42)\n",
    "\n",
    "# Create a linear regression model\n",
    "model = LinearRegression()\n",
    "\n",
    "# Train the model on the training data\n",
    "model.fit(X_train, y_train)\n",
    "\n",
    "# Make predictions on the testing data\n",
    "y_pred = model.predict(X_test)\n",
    "\n",
    "# Calculate the model performance\n",
    "mse = mean_squared_error(y_test, y_pred)\n",
    "r2 = r2_score(y_test, y_pred)\n",
    "\n",
    "print(\"Mean Squared Error:\", mse)\n",
    "print(\"R-squared Score:\", r2)"
   ]
  },
  {
   "cell_type": "code",
   "execution_count": null,
   "metadata": {
    "slideshow": {
     "slide_type": "slide"
    }
   },
   "outputs": [],
   "source": [
    "#The Mean Squared Error (MSE) of approximately 20.69 suggests that, on average, the model's predictions are off by around 20.69 units squared. This value gives you an idea of how well the model fits the data, with lower values indicating better performance."
   ]
  },
  {
   "cell_type": "code",
   "execution_count": null,
   "metadata": {},
   "outputs": [],
   "source": [
    "#The R-squared Score of approximately 0.72 suggests that the model explains about 72.00% of the variance in the target variable. This value ranges between 0 and 1, with higher values indicating better fit. In this case, 0.72 indicates a moderately good fit of the model to the data."
   ]
  },
  {
   "cell_type": "code",
   "execution_count": null,
   "metadata": {},
   "outputs": [],
   "source": []
  }
 ],
 "metadata": {
  "kernelspec": {
   "display_name": "Python 3",
   "language": "python",
   "name": "python3"
  },
  "language_info": {
   "codemirror_mode": {
    "name": "ipython",
    "version": 3
   },
   "file_extension": ".py",
   "mimetype": "text/x-python",
   "name": "python",
   "nbconvert_exporter": "python",
   "pygments_lexer": "ipython3",
   "version": "3.10.4"
  }
 },
 "nbformat": 4,
 "nbformat_minor": 2
}
