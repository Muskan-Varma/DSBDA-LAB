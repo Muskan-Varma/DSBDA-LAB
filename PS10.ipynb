{
 "cells": [
  {
   "cell_type": "markdown",
   "metadata": {},
   "source": [
    "Calculate Term Frequency and Inverse Document Frequency. Considering\n",
    "sentences of documents.\n"
   ]
  },
  {
   "cell_type": "code",
   "execution_count": 1,
   "metadata": {},
   "outputs": [],
   "source": [
    "from sklearn.feature_extraction.text import TfidfVectorizer\n",
    "\n",
    "# Sample documents (sentences)\n",
    "documents = [\n",
    "    \"Natural Language Processing (NLP) is a subfield of linguistics.\",\n",
    "    \"Computer science and artificial intelligence are closely related to NLP.\",\n",
    "    \"NLP deals with the interactions between computers and human language.\",\n",
    "    \"How to program computers to process and analyze large amounts of natural language data is a key aspect of NLP.\"\n",
    "]"
   ]
  },
  {
   "cell_type": "code",
   "execution_count": 2,
   "metadata": {},
   "outputs": [],
   "source": [
    "# Preprocessing the text (tokenization is done internally by TfidfVectorizer)\n",
    "# Here, we're not performing stemming or lemmatization for simplicity\n",
    "# We'll also remove common stop words\n",
    "tfidf_vectorizer = TfidfVectorizer(stop_words='english')\n",
    "\n",
    "# Compute TF-IDF scores\n",
    "tfidf_matrix = tfidf_vectorizer.fit_transform(documents)\n",
    "\n",
    "# Get feature names (words) from the vectorizer\n",
    "feature_names = tfidf_vectorizer.get_feature_names_out()"
   ]
  },
  {
   "cell_type": "code",
   "execution_count": 3,
   "metadata": {},
   "outputs": [
    {
     "name": "stdout",
     "output_type": "stream",
     "text": [
      "Term Frequency - Inverse Document Frequency (TF-IDF) Scores:\n",
      "\n",
      "Document 1:\n",
      "language: 0.31\n",
      "linguistics: 0.48\n",
      "natural: 0.38\n",
      "nlp: 0.25\n",
      "processing: 0.48\n",
      "subfield: 0.48\n",
      "\n",
      "Document 2:\n",
      "artificial: 0.40\n",
      "closely: 0.40\n",
      "computer: 0.40\n",
      "intelligence: 0.40\n",
      "nlp: 0.21\n",
      "related: 0.40\n",
      "science: 0.40\n",
      "\n",
      "Document 3:\n",
      "computers: 0.38\n",
      "deals: 0.48\n",
      "human: 0.48\n",
      "interactions: 0.48\n",
      "language: 0.31\n",
      "nlp: 0.25\n",
      "\n",
      "Document 4:\n",
      "amounts: 0.32\n",
      "analyze: 0.32\n",
      "aspect: 0.32\n",
      "computers: 0.25\n",
      "data: 0.32\n",
      "key: 0.32\n",
      "language: 0.20\n",
      "large: 0.32\n",
      "natural: 0.25\n",
      "nlp: 0.17\n",
      "process: 0.32\n",
      "program: 0.32\n"
     ]
    }
   ],
   "source": [
    "# Print TF-IDF scores for each word in each document\n",
    "print(\"Term Frequency - Inverse Document Frequency (TF-IDF) Scores:\")\n",
    "for i, document in enumerate(documents):\n",
    "    print(f\"\\nDocument {i+1}:\")\n",
    "    for j, word in enumerate(feature_names):\n",
    "        tfidf_score = tfidf_matrix[i, j]\n",
    "        if tfidf_score > 0:\n",
    "            print(f\"{word}: {tfidf_score:.2f}\")"
   ]
  },
  {
   "cell_type": "markdown",
   "metadata": {},
   "source": [
    "We have a list of sample documents (sentences).\n",
    "We use the TfidfVectorizer from scikit-learn to compute TF-IDF scores.\n",
    "We fit the vectorizer on the documents and transform them into a TF-IDF matrix.\n",
    "We retrieve the feature names (words) from the vectorizer.\n",
    "Finally, we print the TF-IDF scores for each word in each document."
   ]
  },
  {
   "cell_type": "code",
   "execution_count": null,
   "metadata": {},
   "outputs": [],
   "source": []
  },
  {
   "cell_type": "code",
   "execution_count": null,
   "metadata": {},
   "outputs": [],
   "source": []
  },
  {
   "cell_type": "code",
   "execution_count": null,
   "metadata": {},
   "outputs": [],
   "source": []
  },
  {
   "cell_type": "code",
   "execution_count": null,
   "metadata": {},
   "outputs": [],
   "source": []
  },
  {
   "cell_type": "code",
   "execution_count": null,
   "metadata": {},
   "outputs": [],
   "source": []
  }
 ],
 "metadata": {
  "kernelspec": {
   "display_name": "Python 3",
   "language": "python",
   "name": "python3"
  },
  "language_info": {
   "codemirror_mode": {
    "name": "ipython",
    "version": 3
   },
   "file_extension": ".py",
   "mimetype": "text/x-python",
   "name": "python",
   "nbconvert_exporter": "python",
   "pygments_lexer": "ipython3",
   "version": "3.10.4"
  }
 },
 "nbformat": 4,
 "nbformat_minor": 2
}
