{
 "cells": [
  {
   "cell_type": "markdown",
   "metadata": {},
   "source": [
    "Perform the following operations using Python by creating student\n",
    "performance dataset.\n",
    "\n",
    "1. Display Missing Values\n",
    "2. Replace missing values using any 2 suitable\n",
    "3. Identify outliers using IQR and ZScore\n",
    "4. Handle outlier using any technique\n",
    "5. Perform data normalization using Min Max\n",
    "6. Perform data normalization using decimal scaling\n",
    "7. Handling outliers using Transformation\n",
    "8. Handling outliers using Robust Statistical Methods"
   ]
  },
  {
   "cell_type": "code",
   "execution_count": 1,
   "metadata": {},
   "outputs": [],
   "source": [
    "import pandas as pd\n",
    "import numpy as np\n",
    "from scipy.stats import zscore, iqr\n",
    "from sklearn.preprocessing import MinMaxScaler\n",
    "\n",
    "# Create a sample student performance dataset\n",
    "data = {\n",
    "    'Student_ID': [1, 2, 3, 4, 5, np.nan, 7, 8, 9, 10],\n",
    "    'Math_Score': [85, 90, 88, 100, 92, 78, 85, 95, np.nan, 87],\n",
    "    'Science_Score': [78, 85, np.nan, 94, 96, 208, 90, 82, 85, 79],\n",
    "    'English_Score': [92, 88, 82, np.nan, 90, 84, 87, 95, 89, 91]\n",
    "}\n",
    "\n",
    "student_df = pd.DataFrame(data)"
   ]
  },
  {
   "cell_type": "code",
   "execution_count": 2,
   "metadata": {},
   "outputs": [
    {
     "name": "stdout",
     "output_type": "stream",
     "text": [
      "Missing Values:\n",
      " Student_ID       1\n",
      "Math_Score       1\n",
      "Science_Score    1\n",
      "English_Score    1\n",
      "dtype: int64\n"
     ]
    }
   ],
   "source": [
    "# 1. Display Missing Values\n",
    "missing_values = student_df.isnull().sum()\n",
    "print(\"Missing Values:\\n\", missing_values)"
   ]
  },
  {
   "cell_type": "code",
   "execution_count": 6,
   "metadata": {},
   "outputs": [
    {
     "name": "stdout",
     "output_type": "stream",
     "text": [
      "\n",
      "Outliers using IQR:\n",
      " Student_ID       0\n",
      "Math_Score       0\n",
      "Science_Score    1\n",
      "English_Score    0\n",
      "dtype: int64\n"
     ]
    }
   ],
   "source": [
    "# 2. Replace missing values using mean and median\n",
    "student_df['Math_Score'].fillna(student_df['Math_Score'].mean(), inplace=True)\n",
    "student_df['Science_Score'].fillna(student_df['Science_Score'].median(), inplace=True)\n",
    "\n",
    "# 3. Identify outliers using IQR and ZScore\n",
    "# IQR method\n",
    "Q1 = student_df.quantile(0.25)\n",
    "Q3 = student_df.quantile(0.75)\n",
    "IQR = Q3 - Q1\n",
    "outliers_iqr = ((student_df < (Q1 - 1.5 * IQR)) | (student_df > (Q3 + 1.5 * IQR))).sum()\n",
    "print(\"\\nOutliers using IQR:\\n\", outliers_iqr)"
   ]
  },
  {
   "cell_type": "code",
   "execution_count": 7,
   "metadata": {},
   "outputs": [
    {
     "name": "stdout",
     "output_type": "stream",
     "text": [
      "\n",
      "Outliers using ZScore:\n",
      " Student_ID       0\n",
      "Math_Score       0\n",
      "Science_Score    0\n",
      "English_Score    0\n",
      "dtype: int64\n"
     ]
    }
   ],
   "source": [
    "# ZScore method\n",
    "z_scores = np.abs(zscore(student_df))\n",
    "threshold = 3\n",
    "outliers_zscore = (z_scores > threshold).sum(axis=0)\n",
    "print(\"\\nOutliers using ZScore:\\n\", outliers_zscore)"
   ]
  },
  {
   "cell_type": "code",
   "execution_count": 5,
   "metadata": {},
   "outputs": [
    {
     "name": "stdout",
     "output_type": "stream",
     "text": [
      "\n",
      "Modified DataFrame after preprocessing:\n",
      "    Student_ID  Math_Score  Science_Score  English_Score\n",
      "0         1.0    0.318182       0.000000       0.769231\n",
      "1         2.0    0.545455       0.388889       0.461538\n",
      "2         3.0    0.454545       0.388889       0.000000\n",
      "3         4.0    1.000000       0.888889            NaN\n",
      "4         5.0    0.636364       1.000000       0.615385\n",
      "5         NaN    0.000000       0.555556       0.153846\n",
      "6         7.0    0.318182       0.666667       0.384615\n",
      "7         8.0    0.772727       0.222222       1.000000\n",
      "8         9.0    0.494949       0.388889       0.538462\n",
      "9        10.0    0.409091       0.055556       0.692308\n"
     ]
    }
   ],
   "source": [
    "# 4. Handle outliers using winsorization\n",
    "from scipy.stats.mstats import winsorize\n",
    "\n",
    "# Winsorize outliers in each column\n",
    "student_df['Math_Score'] = winsorize(student_df['Math_Score'], limits=[0.05, 0.05])\n",
    "student_df['Science_Score'] = winsorize(student_df['Science_Score'], limits=[0.05, 0.05])\n",
    "student_df['English_Score'] = winsorize(student_df['English_Score'], limits=[0.05, 0.05])\n",
    "\n",
    "# 5. Perform data normalization using Min-Max scaling\n",
    "scaler = MinMaxScaler()\n",
    "student_df[['Math_Score', 'Science_Score', 'English_Score']] = scaler.fit_transform(student_df[['Math_Score', 'Science_Score', 'English_Score']])\n",
    "\n",
    "# Print the modified DataFrame\n",
    "print(\"\\nModified DataFrame after preprocessing:\\n\", student_df)"
   ]
  },
  {
   "cell_type": "code",
   "execution_count": 6,
   "metadata": {},
   "outputs": [
    {
     "name": "stdout",
     "output_type": "stream",
     "text": [
      "\n",
      "Modified DataFrame after preprocessing:\n",
      "    Student_ID  Math_Score  Science_Score  English_Score\n",
      "0         1.0    0.031818       0.000000       0.076923\n",
      "1         2.0    0.054545       0.038889       0.046154\n",
      "2         3.0    0.045455       0.038889       0.000000\n",
      "3         4.0    0.100000       0.088889            NaN\n",
      "4         5.0    0.063636       0.100000       0.061538\n",
      "5         NaN    0.000000       0.055556       0.015385\n",
      "6         7.0    0.031818       0.066667       0.038462\n",
      "7         8.0    0.077273       0.022222       0.100000\n",
      "8         9.0    0.049495       0.038889       0.053846\n",
      "9        10.0    0.040909       0.005556       0.069231\n"
     ]
    }
   ],
   "source": [
    "# Ass 13:\n",
    "\n",
    "# Perform data normalization using decimal scaling\n",
    "def decimal_scaling(x):\n",
    "    max_val = max(x)\n",
    "    num_digits = len(str(int(max_val)))\n",
    "    scaled = x / (10 ** num_digits)\n",
    "    return scaled\n",
    "\n",
    "student_df[['Math_Score', 'Science_Score', 'English_Score']] = student_df[['Math_Score', 'Science_Score', 'English_Score']].apply(decimal_scaling)\n",
    "\n",
    "# Print the modified DataFrame\n",
    "print(\"\\nModified DataFrame after preprocessing:\\n\", student_df)"
   ]
  },
  {
   "cell_type": "code",
   "execution_count": 1,
   "metadata": {},
   "outputs": [
    {
     "data": {
      "text/plain": [
       "array([[<AxesSubplot:title={'center':'Original Prices'}>,\n",
       "        <AxesSubplot:title={'center':'Transformed Prices'}>]],\n",
       "      dtype=object)"
      ]
     },
     "execution_count": 1,
     "metadata": {},
     "output_type": "execute_result"
    },
    {
     "data": {
      "image/png": "[encoded data removed]",
      "text/plain": [
       "<Figure size 640x480 with 2 Axes>"
      ]
     },
     "metadata": {},
     "output_type": "display_data"
    }
   ],
   "source": [
    "# 7. Transformation:\n",
    "# Transformation involves applying mathematical functions to the data to modify its distribution and reduce the impact of outliers. One of the simplest transformations is the logarithmic transformation, which is particularly useful when the data is skewed or contains outliers.\n",
    "\n",
    "import numpy as np\n",
    "import pandas as pd\n",
    "\n",
    "# Generate sample data\n",
    "np.random.seed(0)\n",
    "house_prices = np.random.normal(loc=200000, scale=50000, size=100)\n",
    "house_prices[house_prices < 100000] = 100000  # Introduce outliers\n",
    "\n",
    "# Logarithmic transformation\n",
    "transformed_prices = np.log(house_prices)\n",
    "\n",
    "# Compare distributions\n",
    "df = pd.DataFrame({\"Original Prices\": house_prices, \"Transformed Prices\": transformed_prices})\n",
    "df.hist()"
   ]
  },
  {
   "cell_type": "code",
   "execution_count": null,
   "metadata": {},
   "outputs": [],
   "source": [
    "# In this example, applying a logarithmic transformation to the house prices reduces the influence of extreme values, making the distribution more symmetrical and easier to work with."
   ]
  },
  {
   "cell_type": "code",
   "execution_count": 2,
   "metadata": {},
   "outputs": [
    {
     "data": {
      "image/png": "[encoded data removed]",
      "text/plain": [
       "<Figure size 640x480 with 1 Axes>"
      ]
     },
     "metadata": {},
     "output_type": "display_data"
    }
   ],
   "source": [
    "# 8. Robust Statistical Methods\n",
    "# Robust statistical methods are less sensitive to outliers and provide more reliable estimates of parameters. One such method is RANSAC (RANdom SAmple Consensus), which is a robust regression technique commonly used for fitting models to data with outliers.\n",
    "\n",
    "from sklearn.linear_model import RANSACRegressor\n",
    "import matplotlib.pyplot as plt\n",
    "\n",
    "# Generate sample data\n",
    "np.random.seed(0)\n",
    "X = np.random.rand(100, 1) * 10\n",
    "y = 2 * X + 3 + np.random.normal(scale=2, size=(100, 1))\n",
    "y[::10] += 50  # Introduce outliers\n",
    "\n",
    "# Fit RANSAC regression model\n",
    "ransac = RANSACRegressor()\n",
    "ransac.fit(X, y)\n",
    "\n",
    "# Plot the data and the RANSAC regression line\n",
    "plt.scatter(X, y, color='blue', label='Data')\n",
    "plt.plot(X, ransac.predict(X), color='red', label='RANSAC Regression')\n",
    "plt.xlabel('X')\n",
    "plt.ylabel('y')\n",
    "plt.legend()\n",
    "plt.show()"
   ]
  },
  {
   "cell_type": "code",
   "execution_count": null,
   "metadata": {},
   "outputs": [],
   "source": [
    "# In this example, RANSAC identifies and fits the regression model to the inliers, ignoring the outliers. As a result, the fitted model is less affected by the presence of outliers and provides a more reliable estimate of the underlying relationship between the variables."
   ]
  }
 ],
 "metadata": {
  "kernelspec": {
   "display_name": "Python 3",
   "language": "python",
   "name": "python3"
  },
  "language_info": {
   "codemirror_mode": {
    "name": "ipython",
    "version": 3
   },
   "file_extension": ".py",
   "mimetype": "text/x-python",
   "name": "python",
   "nbconvert_exporter": "python",
   "pygments_lexer": "ipython3",
   "version": "3.10.4"
  }
 },
 "nbformat": 4,
 "nbformat_minor": 2
}
